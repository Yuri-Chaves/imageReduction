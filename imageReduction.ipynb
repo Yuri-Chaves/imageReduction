{
  "nbformat": 4,
  "nbformat_minor": 0,
  "metadata": {
    "colab": {
      "provenance": [],
      "authorship_tag": "ABX9TyMlGD6giefcNFGvXMr+3fMk",
      "include_colab_link": true
    },
    "kernelspec": {
      "name": "python3",
      "display_name": "Python 3"
    },
    "language_info": {
      "name": "python"
    }
  },
  "cells": [
    {
      "cell_type": "markdown",
      "metadata": {
        "id": "view-in-github",
        "colab_type": "text"
      },
      "source": [
        "<a href=\"https://colab.research.google.com/github/Yuri-Chaves/imageReduction/blob/main/imageReduction.ipynb\" target=\"_parent\"><img src=\"https://colab.research.google.com/assets/colab-badge.svg\" alt=\"Open In Colab\"/></a>"
      ]
    },
    {
      "cell_type": "code",
      "execution_count": 1,
      "metadata": {
        "id": "xJ2a9agimiMt"
      },
      "outputs": [],
      "source": [
        "from PIL import Image\n",
        "import os"
      ]
    },
    {
      "cell_type": "code",
      "source": [
        "class Colors:\n",
        "    def __init__(self, red, green, yellow, blue, magenta, cyan, white, default):\n",
        "        self.red = red\n",
        "        self.green = green\n",
        "        self.yellow = yellow\n",
        "        self.blue = blue\n",
        "        self.magenta = magenta\n",
        "        self.cyan = cyan\n",
        "        self.white = white\n",
        "        self.default = default\n",
        "\n",
        "colors = Colors(\n",
        "    red=\"\\x1b[31m\",\n",
        "    green=\"\\x1b[32m\",\n",
        "    yellow=\"\\x1b[33m\",\n",
        "    blue=\"\\x1b[34m\",\n",
        "    magenta=\"\\x1b[35m\",\n",
        "    cyan=\"\\x1b[36m\",\n",
        "    white=\"\\x1b[37m\",\n",
        "    default=\"\\x1b[0m\")"
      ],
      "metadata": {
        "id": "Zqs_qNHinas1"
      },
      "execution_count": 2,
      "outputs": []
    },
    {
      "cell_type": "code",
      "source": [
        "def printError(errMessage: str, err):\n",
        "  return f\"{colors.red}Error: {colors.white}{errMessage}.{colors.default}\\n{err}\""
      ],
      "metadata": {
        "id": "4tu_IyF_oWzp"
      },
      "execution_count": 3,
      "outputs": []
    },
    {
      "cell_type": "code",
      "source": [
        "def convertImage(path):\n",
        "  if not os.path.exists(path):\n",
        "    print(printError('File not exists', path))\n",
        "    return\n",
        "  try:\n",
        "    img = Image.open(path)\n",
        "  except Exception as ex:\n",
        "    print(printError('Failed to open file', ex))\n",
        "    return\n",
        "\n",
        "  grayScale = img.convert('L')\n",
        "\n",
        "  binary = grayScale.copy()\n",
        "\n",
        "  threshold = int(grayScale.histogram()[1] / 2)\n",
        "\n",
        "  for x in range(binary.size[0]):\n",
        "    for y in range(binary.size[1]):\n",
        "      if binary.getpixel((x, y)) < threshold:\n",
        "        binary.putpixel((x, y), 0)\n",
        "      else:\n",
        "        binary.putpixel((x, y), 255)\n",
        "\n",
        "  img.show()\n",
        "  grayScale.show()\n",
        "  binary.show()\n",
        "\n",
        "  save = ''\n",
        "  while save != 'S' or save != 'N':\n",
        "    save = input(\"Want to save the images?\")\n",
        "\n",
        "  if save == 'N':\n",
        "    return\n",
        "\n",
        "  try:\n",
        "    outputDir = os.path.splitext(path)[0] + 'output'\n",
        "    os.makedirs(outputDir, exist_ok=True)\n",
        "\n",
        "    originalName = os.path.splitext(os.path.basename(path))[0]\n",
        "\n",
        "    grayScale.save(os.path.join(outputDir, f\"{originalName}_grayScale.png\"))\n",
        "    binary.save(os.path.join(outputDir, f\"{originalName}_binary.png\"))\n",
        "    print(f\"{colors.green}Success: {colors.white}Images saved in: {colors.blue}{outputDir}\")\n",
        "  except Exception as ex:\n",
        "    print(printError('Failed to save files', ex))\n",
        "    return"
      ],
      "metadata": {
        "id": "glom8uRvmz0O"
      },
      "execution_count": null,
      "outputs": []
    }
  ]
}